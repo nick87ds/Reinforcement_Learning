{
 "cells": [
  {
   "cell_type": "markdown",
   "id": "dbe6c80c",
   "metadata": {},
   "source": [
    "# DQN: CartPole"
   ]
  },
  {
   "cell_type": "markdown",
   "id": "fafe1448",
   "metadata": {},
   "source": [
    "### Import Libraries"
   ]
  },
  {
   "cell_type": "code",
   "execution_count": 21,
   "id": "91c92233",
   "metadata": {},
   "outputs": [],
   "source": [
    "from collections import deque\n",
    "import random\n",
    "\n",
    "import numpy as np\n",
    "import gym\n",
    "\n",
    "from tensorflow.keras.models import Sequential\n",
    "from tensorflow.keras.layers import Dense, Activation\n",
    "from tensorflow.keras.optimizers import Adam\n",
    "from tensorflow.keras.models import clone_model"
   ]
  },
  {
   "cell_type": "code",
   "execution_count": 2,
   "id": "f3375314",
   "metadata": {},
   "outputs": [
    {
     "data": {
      "text/plain": [
       "'2.9.1'"
      ]
     },
     "execution_count": 2,
     "metadata": {},
     "output_type": "execute_result"
    }
   ],
   "source": [
    "import tensorflow\n",
    "tensorflow.__version__"
   ]
  },
  {
   "cell_type": "markdown",
   "id": "ea68f2c5",
   "metadata": {},
   "source": [
    "### Load Environment"
   ]
  },
  {
   "cell_type": "code",
   "execution_count": 22,
   "id": "5174e2ef",
   "metadata": {},
   "outputs": [],
   "source": [
    "env = gym.make(\"CartPole-v1\")"
   ]
  },
  {
   "cell_type": "markdown",
   "id": "3543a632",
   "metadata": {},
   "source": [
    "### Play random"
   ]
  },
  {
   "cell_type": "code",
   "execution_count": 4,
   "id": "2a8e2714",
   "metadata": {},
   "outputs": [],
   "source": [
    "# env.reset()\n",
    "\n",
    "# n_step = 0\n",
    "\n",
    "# for _ in range(100):\n",
    "#     env.render()\n",
    "#     action = env.action_space.sample()\n",
    "#     obs, rew, done, info = env.step(action)\n",
    "#     time.sleep(0.1)\n",
    "    \n",
    "#     n_step += 1\n",
    "    \n",
    "#     if done:\n",
    "#         env.reset()\n",
    "#         print(f\"Resettato dopo n.{n_step} step.\")\n",
    "#         n_step = 0\n",
    "        \n",
    "# env.close()"
   ]
  },
  {
   "cell_type": "markdown",
   "id": "64ed2daa",
   "metadata": {},
   "source": [
    "### Observations"
   ]
  },
  {
   "cell_type": "markdown",
   "id": "85710ca6",
   "metadata": {},
   "source": [
    "* Cart Position (-4.8, 4.8)\n",
    "* Cart Velocity $(-\\infty \\text{ to } +\\infty)$\n",
    "* Pole Angle (-0.418 to +0.418)\n",
    "* Pole Angular Velocity  $(-\\infty \\text{ to } +\\infty)$"
   ]
  },
  {
   "cell_type": "markdown",
   "id": "7a248019",
   "metadata": {},
   "source": [
    "### Actions"
   ]
  },
  {
   "cell_type": "markdown",
   "id": "6005e621",
   "metadata": {},
   "source": [
    "* 0 - Move to the left\n",
    "* 1 - Move to the right"
   ]
  },
  {
   "cell_type": "markdown",
   "id": "ebca39f6",
   "metadata": {},
   "source": [
    "### How to play manually"
   ]
  },
  {
   "cell_type": "code",
   "execution_count": 5,
   "id": "c48a54f8",
   "metadata": {},
   "outputs": [],
   "source": [
    "# action = 0\n",
    "# k = 0\n",
    "\n",
    "# def key_press(k, mod):\n",
    "    \n",
    "#     \"\"\"\n",
    "#     Get the key press for gym\n",
    "#     \"\"\"\n",
    "    \n",
    "#     global action\n",
    "#     if k == key.LEFT:\n",
    "#         action = 0\n",
    "#     if k == key.RIGHT:\n",
    "#         action = 1\n",
    "        \n",
    "\n",
    "# env.reset()\n",
    "# rewards = 0\n",
    "\n",
    "# for _ in range(1000):    \n",
    "#     env.render()\n",
    "#     env.viewer.window.on_key_press = key_press\n",
    "    \n",
    "#     observation, reward, done, info = env.step(action)\n",
    "    \n",
    "#     rewards += 1\n",
    "    \n",
    "#     if done:\n",
    "#         print(f\"Punteggio raggiunto {rewards}\")\n",
    "#         break\n",
    "    \n",
    "#     time.sleep(0.5)\n",
    "    \n",
    "# env.close()"
   ]
  },
  {
   "cell_type": "markdown",
   "id": "e19cc7ec",
   "metadata": {},
   "source": [
    "### Build the Neural Network"
   ]
  },
  {
   "cell_type": "code",
   "execution_count": 6,
   "id": "d239c386",
   "metadata": {},
   "outputs": [
    {
     "name": "stdout",
     "output_type": "stream",
     "text": [
      "Ci sono n.2 azioni e n.4 osservazioni.\n"
     ]
    }
   ],
   "source": [
    "num_actions = env.action_space.n\n",
    "num_observation = env.observation_space.shape[0]\n",
    "\n",
    "print(f\"Ci sono n.{num_actions} azioni e n.{num_observation} osservazioni.\")"
   ]
  },
  {
   "cell_type": "code",
   "execution_count": 23,
   "id": "81b2ad1b",
   "metadata": {},
   "outputs": [
    {
     "name": "stdout",
     "output_type": "stream",
     "text": [
      "Model: \"sequential_1\"\n",
      "_________________________________________________________________\n",
      " Layer (type)                Output Shape              Param #   \n",
      "=================================================================\n",
      " dense_3 (Dense)             (None, 1, 16)             80        \n",
      "                                                                 \n",
      " dense_4 (Dense)             (None, 1, 32)             544       \n",
      "                                                                 \n",
      " dense_5 (Dense)             (None, 1, 2)              66        \n",
      "                                                                 \n",
      "=================================================================\n",
      "Total params: 690\n",
      "Trainable params: 690\n",
      "Non-trainable params: 0\n",
      "_________________________________________________________________\n",
      "None\n"
     ]
    }
   ],
   "source": [
    "model = Sequential()\n",
    "\n",
    "model.add(Dense(16, input_shape=(1, num_observation), activation='relu'))\n",
    "model.add(Dense(32, activation='relu'))\n",
    "\n",
    "model.add(Dense(num_actions))\n",
    "\n",
    "print(model.summary())"
   ]
  },
  {
   "cell_type": "markdown",
   "id": "b7b9b742",
   "metadata": {},
   "source": [
    "Il modello, dunque, prende come input l'osservazione e restituisce come output un valore per ogni azione. Maggiore è il valore e maggiormente l'azione sarà appropriata per quella particolare osservazione.\n",
    " \n",
    "Le DQN lavorano meglio quando usate con una rete target."
   ]
  },
  {
   "cell_type": "code",
   "execution_count": 8,
   "id": "4e81d4a9",
   "metadata": {},
   "outputs": [],
   "source": [
    "target_model = clone_model(model)"
   ]
  },
  {
   "cell_type": "markdown",
   "id": "a0b332ff",
   "metadata": {},
   "source": [
    "### Hyperparameters and Update Functions"
   ]
  },
  {
   "cell_type": "code",
   "execution_count": 9,
   "id": "be6174be",
   "metadata": {},
   "outputs": [],
   "source": [
    "EPOCHS = 10\n",
    "\n",
    "epsilon = 1.0\n",
    "EPSILON_REDUCE = 0.995  # E' moltiplicata con epsilon ad ogni step\n",
    "LEARNING_RATE = 0.001   # NON CORRISPONDE AL VALORE ALPHA DEL Q-LEARNING\n",
    "GAMMA = 0.95"
   ]
  },
  {
   "cell_type": "code",
   "execution_count": 10,
   "id": "b4fb0d7c",
   "metadata": {},
   "outputs": [],
   "source": [
    "def epsilon_greedy_action_selection(model, epsilon, observation):\n",
    "    \n",
    "    random_number = np.random.random()\n",
    "    \n",
    "    if random_number > epsilon:                     # Scelta dell'azione appresa\n",
    "        \n",
    "        prediction = model.predict(observation.reshape([1, 1,4])) \n",
    "        action = np.argmax(prediction)              # Restituisce l'indice con il valore maggiore\n",
    "    \n",
    "    else:\n",
    "        action = np.random.randint(0, env.action_space.n)\n",
    "    \n",
    "    return action"
   ]
  },
  {
   "cell_type": "markdown",
   "id": "806a7580",
   "metadata": {},
   "source": [
    "#### Replay Buffer"
   ]
  },
  {
   "cell_type": "markdown",
   "id": "04cd7982",
   "metadata": {},
   "source": [
    "Per l'addestramento del modello è necessario un **replay buffer*** da usare come contenitore di dati. Il buffer non avrà valore infinito, avrà un valore finito che si aggiorenrà attraverso il metodo FIFO (First-In, First-Out). Per questo scopo è utile il _deque_."
   ]
  },
  {
   "cell_type": "code",
   "execution_count": 11,
   "id": "5c37cf58",
   "metadata": {},
   "outputs": [
    {
     "name": "stdout",
     "output_type": "stream",
     "text": [
      "deque([0], maxlen=5)\n",
      "deque([0, 1], maxlen=5)\n",
      "deque([0, 1, 2], maxlen=5)\n",
      "deque([0, 1, 2, 3], maxlen=5)\n",
      "deque([0, 1, 2, 3, 4], maxlen=5)\n",
      "deque([1, 2, 3, 4, 5], maxlen=5)\n",
      "deque([2, 3, 4, 5, 6], maxlen=5)\n",
      "deque([3, 4, 5, 6, 7], maxlen=5)\n",
      "deque([4, 5, 6, 7, 8], maxlen=5)\n",
      "deque([5, 6, 7, 8, 9], maxlen=5)\n"
     ]
    }
   ],
   "source": [
    "deque_1 = deque(maxlen=5)\n",
    "\n",
    "for i in range(10):\n",
    "    deque_1.append(i)\n",
    "    print(deque_1)"
   ]
  },
  {
   "cell_type": "code",
   "execution_count": 12,
   "id": "13db0c64",
   "metadata": {},
   "outputs": [],
   "source": [
    "MAX_REPLAY_BUFFER = 20000\n",
    "UPDATE_TARGET_MODEL_STEPS = 10\n",
    "\n",
    "replay_buffer = deque(maxlen=MAX_REPLAY_BUFFER)\n",
    "update_target_model = UPDATE_TARGET_MODEL_STEPS"
   ]
  },
  {
   "cell_type": "markdown",
   "id": "550dcada",
   "metadata": {},
   "source": [
    "#### Semplice tecnica per gestire i dati per l'action replay algorithm."
   ]
  },
  {
   "cell_type": "markdown",
   "id": "1d45e2d9",
   "metadata": {},
   "source": [
    "Utilizzo di * ovvero **Unpacking Argument Lists**"
   ]
  },
  {
   "cell_type": "code",
   "execution_count": 13,
   "id": "075103b2",
   "metadata": {},
   "outputs": [],
   "source": [
    "test_tuple = [(1,2,3), (4,5,6), (7,8,9)]\n",
    "zipped_list = list(zip(*test_tuple))"
   ]
  },
  {
   "cell_type": "code",
   "execution_count": 14,
   "id": "b1733125",
   "metadata": {},
   "outputs": [],
   "source": [
    "a, b, c = zipped_list"
   ]
  },
  {
   "cell_type": "code",
   "execution_count": 15,
   "id": "8488dc5f",
   "metadata": {},
   "outputs": [
    {
     "name": "stdout",
     "output_type": "stream",
     "text": [
      "(1, 4, 7) (2, 5, 8) (3, 6, 9)\n"
     ]
    }
   ],
   "source": [
    "print(a, b, c)"
   ]
  },
  {
   "cell_type": "code",
   "execution_count": 16,
   "id": "3fdbddc1",
   "metadata": {},
   "outputs": [],
   "source": [
    "def replay(replay_buffer, batch_size, model, target_model):\n",
    "    \n",
    "    # Non restituisce nulla se il replay_buffer è inferiore al batch_size\n",
    "    if len(replay_buffer) < batch_size:\n",
    "        return\n",
    "    \n",
    "    samples = random.sample(replay_buffer, batch_size)\n",
    "    \n",
    "    # Conserva i valori target previsti dalla rete target\n",
    "    target_batch = []\n",
    "    \n",
    "    zipped_samples = list(zip(*samples))\n",
    "    states, actions, rewards, new_states, dones = zipped_samples\n",
    "    \n",
    "    # Previsione dei target per tutti gli stati del campione\n",
    "    targets = target_model.predict(np.array(states))\n",
    "    \n",
    "    # Previsione del Q-Value per tutti i nuovi stati (new_states) del campione\n",
    "    q_values = model.predict(np.array(new_states))\n",
    "    \n",
    "    \n",
    "    # Loop attraverso tutti i valori previsti per calcolare i target attuali\n",
    "    for i in range(batch_size):\n",
    "        \n",
    "        # Max Q-Value per ogni campione\n",
    "        q_value = max(q_values[i][0])\n",
    "        \n",
    "#         print(f\"q_values: {q_values[i]}\")\n",
    "        \n",
    "        # Conservare l'i-esimo target per aggiornarlo in accordo alla formula\n",
    "        target = targets[i].copy()\n",
    "        \n",
    "#         print(f\"dones: {dones}\")\n",
    "        \n",
    "        if dones[i]:\n",
    "            target[0][actions[i]] = rewards[i]\n",
    "        else:\n",
    "            target[0][actions[i]] = rewards[i] + q_value * GAMMA\n",
    "        \n",
    "#         print(f\"target: {target}\")\n",
    "        \n",
    "        target_batch.append(target)\n",
    "    \n",
    "    # Fit the model\n",
    "    model.fit(np.array(states), np.array(target_batch), epochs=1, verbose=0)"
   ]
  },
  {
   "cell_type": "code",
   "execution_count": 17,
   "id": "53988a2b",
   "metadata": {},
   "outputs": [],
   "source": [
    "def update_model_handler(epoch, update_target_model, model, target_model):\n",
    "    if epoch > 0 and epoch % update_target_model == 0:\n",
    "        target_model.set_weights(model.get_weights())"
   ]
  },
  {
   "cell_type": "markdown",
   "id": "dfbe2502",
   "metadata": {},
   "source": [
    "### Training the Model"
   ]
  },
  {
   "cell_type": "code",
   "execution_count": 24,
   "id": "f0119703",
   "metadata": {},
   "outputs": [],
   "source": [
    "model.compile(loss='mse', optimizer=Adam(lr=LEARNING_RATE))"
   ]
  },
  {
   "cell_type": "code",
   "execution_count": 19,
   "id": "78f15b80",
   "metadata": {
    "scrolled": true
   },
   "outputs": [
    {
     "name": "stdout",
     "output_type": "stream",
     "text": [
      "epoch: 0\n",
      "0: Points reached: 1 - epsilon: 0.995 - Best: 1\n",
      "0: Points reached: 2 - epsilon: 0.990025 - Best: 2\n",
      "0: Points reached: 3 - epsilon: 0.985074875 - Best: 3\n",
      "0: Points reached: 4 - epsilon: 0.9801495006250001 - Best: 4\n",
      "0: Points reached: 5 - epsilon: 0.9752487531218751 - Best: 5\n",
      "0: Points reached: 6 - epsilon: 0.9703725093562657 - Best: 6\n",
      "0: Points reached: 7 - epsilon: 0.9655206468094844 - Best: 7\n",
      "0: Points reached: 8 - epsilon: 0.960693043575437 - Best: 8\n",
      "0: Points reached: 9 - epsilon: 0.9558895783575597 - Best: 9\n",
      "0: Points reached: 10 - epsilon: 0.9511101304657719 - Best: 10\n",
      "0: Points reached: 11 - epsilon: 0.946354579813443 - Best: 11\n",
      "0: Points reached: 12 - epsilon: 0.9416228069143757 - Best: 12\n",
      "0: Points reached: 13 - epsilon: 0.9369146928798039 - Best: 13\n",
      "0: Points reached: 14 - epsilon: 0.9322301194154049 - Best: 14\n",
      "0: Points reached: 15 - epsilon: 0.9275689688183278 - Best: 15\n",
      "0: Points reached: 16 - epsilon: 0.9229311239742362 - Best: 16\n",
      "0: Points reached: 17 - epsilon: 0.918316468354365 - Best: 17\n",
      "0: Points reached: 18 - epsilon: 0.9137248860125932 - Best: 18\n",
      "0: Points reached: 19 - epsilon: 0.9091562615825302 - Best: 19\n",
      "epoch: 1\n",
      "1/1 [==============================] - 0s 210ms/step\n",
      "1/1 [==============================] - 0s 26ms/step\n",
      "epoch: 2\n",
      "1/1 [==============================] - 0s 23ms/step\n",
      "1/1 [==============================] - 0s 32ms/step\n",
      "1/1 [==============================] - 0s 27ms/step\n",
      "1/1 [==============================] - 0s 22ms/step\n",
      "1/1 [==============================] - 0s 28ms/step\n",
      "epoch: 3\n",
      "1/1 [==============================] - 0s 43ms/step\n",
      "1/1 [==============================] - 0s 29ms/step\n",
      "1/1 [==============================] - 0s 22ms/step\n",
      "1/1 [==============================] - 0s 23ms/step\n",
      "1/1 [==============================] - 0s 21ms/step\n",
      "1/1 [==============================] - 0s 27ms/step\n",
      "1/1 [==============================] - 0s 22ms/step\n",
      "1/1 [==============================] - 0s 41ms/step\n",
      "2/2 [==============================] - 0s 6ms/step\n",
      "2/2 [==============================] - 0s 4ms/step\n",
      "2/2 [==============================] - 0s 4ms/step\n",
      "2/2 [==============================] - 0s 7ms/step\n",
      "2/2 [==============================] - 0s 6ms/step\n",
      "2/2 [==============================] - 0s 4ms/step\n",
      "epoch: 4\n",
      "2/2 [==============================] - 0s 4ms/step\n",
      "2/2 [==============================] - 0s 6ms/step\n",
      "2/2 [==============================] - 0s 7ms/step\n",
      "2/2 [==============================] - 0s 6ms/step\n",
      "1/1 [==============================] - 0s 21ms/step\n",
      "2/2 [==============================] - 0s 6ms/step\n",
      "2/2 [==============================] - 0s 4ms/step\n",
      "2/2 [==============================] - 0s 4ms/step\n",
      "2/2 [==============================] - 0s 6ms/step\n",
      "2/2 [==============================] - 0s 5ms/step\n",
      "2/2 [==============================] - 0s 5ms/step\n",
      "2/2 [==============================] - 0s 4ms/step\n",
      "2/2 [==============================] - 0s 7ms/step\n",
      "2/2 [==============================] - 0s 4ms/step\n",
      "2/2 [==============================] - 0s 8ms/step\n",
      "1/1 [==============================] - 0s 34ms/step\n",
      "2/2 [==============================] - 0s 5ms/step\n",
      "2/2 [==============================] - 0s 6ms/step\n",
      "2/2 [==============================] - 0s 8ms/step\n",
      "2/2 [==============================] - 0s 5ms/step\n",
      "2/2 [==============================] - 0s 7ms/step\n",
      "2/2 [==============================] - 0s 6ms/step\n",
      "1/1 [==============================] - 0s 26ms/step\n",
      "2/2 [==============================] - 0s 5ms/step\n",
      "2/2 [==============================] - 0s 5ms/step\n",
      "2/2 [==============================] - 0s 6ms/step\n",
      "2/2 [==============================] - 0s 6ms/step\n",
      "2/2 [==============================] - 0s 4ms/step\n",
      "2/2 [==============================] - 0s 4ms/step\n",
      "1/1 [==============================] - 0s 21ms/step\n",
      "2/2 [==============================] - 0s 7ms/step\n",
      "2/2 [==============================] - 0s 9ms/step\n",
      "2/2 [==============================] - 0s 5ms/step\n",
      "2/2 [==============================] - 0s 4ms/step\n",
      "2/2 [==============================] - 0s 6ms/step\n",
      "2/2 [==============================] - 0s 5ms/step\n",
      "1/1 [==============================] - 0s 21ms/step\n",
      "2/2 [==============================] - 0s 6ms/step\n",
      "2/2 [==============================] - 0s 5ms/step\n",
      "2/2 [==============================] - 0s 6ms/step\n",
      "2/2 [==============================] - 0s 4ms/step\n",
      "2/2 [==============================] - 0s 4ms/step\n",
      "2/2 [==============================] - 0s 5ms/step\n",
      "2/2 [==============================] - 0s 6ms/step\n",
      "2/2 [==============================] - 0s 4ms/step\n",
      "1/1 [==============================] - 0s 27ms/step\n",
      "2/2 [==============================] - 0s 4ms/step\n",
      "2/2 [==============================] - 0s 5ms/step\n",
      "1/1 [==============================] - 0s 22ms/step\n",
      "2/2 [==============================] - 0s 4ms/step\n",
      "2/2 [==============================] - 0s 6ms/step\n",
      "2/2 [==============================] - 0s 5ms/step\n",
      "2/2 [==============================] - 0s 7ms/step\n",
      "1/1 [==============================] - 0s 22ms/step\n",
      "2/2 [==============================] - 0s 5ms/step\n",
      "2/2 [==============================] - 0s 6ms/step\n",
      "2/2 [==============================] - 0s 5ms/step\n",
      "2/2 [==============================] - 0s 4ms/step\n",
      "2/2 [==============================] - 0s 5ms/step\n",
      "2/2 [==============================] - 0s 5ms/step\n",
      "1/1 [==============================] - 0s 22ms/step\n",
      "2/2 [==============================] - 0s 5ms/step\n",
      "2/2 [==============================] - 0s 4ms/step\n",
      "1/1 [==============================] - 0s 21ms/step\n",
      "2/2 [==============================] - 0s 4ms/step\n",
      "2/2 [==============================] - 0s 5ms/step\n",
      "1/1 [==============================] - 0s 22ms/step\n",
      "2/2 [==============================] - 0s 6ms/step\n",
      "2/2 [==============================] - 0s 6ms/step\n",
      "2/2 [==============================] - 0s 5ms/step\n",
      "2/2 [==============================] - 0s 5ms/step\n",
      "2/2 [==============================] - 0s 5ms/step\n",
      "2/2 [==============================] - 0s 5ms/step\n",
      "1/1 [==============================] - 0s 23ms/step\n",
      "2/2 [==============================] - 0s 4ms/step\n",
      "2/2 [==============================] - 0s 4ms/step\n",
      "2/2 [==============================] - 0s 4ms/step\n",
      "2/2 [==============================] - 0s 8ms/step\n",
      "1/1 [==============================] - 0s 22ms/step\n",
      "2/2 [==============================] - 0s 4ms/step\n",
      "2/2 [==============================] - 0s 6ms/step\n",
      "2/2 [==============================] - 0s 5ms/step\n",
      "2/2 [==============================] - 0s 5ms/step\n",
      "2/2 [==============================] - 0s 5ms/step\n",
      "2/2 [==============================] - 0s 3ms/step\n",
      "1/1 [==============================] - 0s 22ms/step\n",
      "2/2 [==============================] - 0s 4ms/step\n",
      "2/2 [==============================] - 0s 4ms/step\n",
      "2/2 [==============================] - 0s 5ms/step\n",
      "2/2 [==============================] - 0s 5ms/step\n",
      "2/2 [==============================] - 0s 4ms/step\n",
      "2/2 [==============================] - 0s 5ms/step\n",
      "2/2 [==============================] - 0s 7ms/step\n",
      "2/2 [==============================] - 0s 5ms/step\n",
      "2/2 [==============================] - 0s 4ms/step\n",
      "2/2 [==============================] - 0s 5ms/step\n",
      "2/2 [==============================] - 0s 4ms/step\n",
      "2/2 [==============================] - 0s 5ms/step\n",
      "epoch: 5\n",
      "2/2 [==============================] - 0s 3ms/step\n",
      "2/2 [==============================] - 0s 7ms/step\n",
      "5: Points reached: 1 - epsilon: 0.5790496471185967 - Best: 42\n",
      "1/1 [==============================] - 0s 28ms/step\n",
      "2/2 [==============================] - 0s 3ms/step\n",
      "2/2 [==============================] - 0s 4ms/step\n",
      "5: Points reached: 2 - epsilon: 0.5761543988830038 - Best: 42\n",
      "2/2 [==============================] - 0s 6ms/step\n",
      "2/2 [==============================] - 0s 7ms/step\n",
      "5: Points reached: 3 - epsilon: 0.5732736268885887 - Best: 42\n",
      "2/2 [==============================] - 0s 5ms/step\n",
      "2/2 [==============================] - 0s 5ms/step\n",
      "5: Points reached: 4 - epsilon: 0.5704072587541458 - Best: 42\n",
      "2/2 [==============================] - 0s 6ms/step\n",
      "2/2 [==============================] - 0s 8ms/step\n",
      "5: Points reached: 5 - epsilon: 0.567555222460375 - Best: 42\n"
     ]
    },
    {
     "name": "stdout",
     "output_type": "stream",
     "text": [
      "2/2 [==============================] - 0s 4ms/step\n",
      "2/2 [==============================] - 0s 7ms/step\n",
      "5: Points reached: 6 - epsilon: 0.5647174463480732 - Best: 42\n",
      "1/1 [==============================] - 0s 19ms/step\n",
      "2/2 [==============================] - 0s 4ms/step\n",
      "2/2 [==============================] - 0s 6ms/step\n",
      "5: Points reached: 7 - epsilon: 0.5618938591163328 - Best: 42\n",
      "2/2 [==============================] - 0s 7ms/step\n",
      "2/2 [==============================] - 0s 5ms/step\n",
      "5: Points reached: 8 - epsilon: 0.5590843898207511 - Best: 42\n",
      "2/2 [==============================] - 0s 6ms/step\n",
      "2/2 [==============================] - 0s 3ms/step\n",
      "5: Points reached: 9 - epsilon: 0.5562889678716474 - Best: 42\n",
      "1/1 [==============================] - 0s 22ms/step\n",
      "2/2 [==============================] - 0s 7ms/step\n",
      "2/2 [==============================] - 0s 4ms/step\n",
      "5: Points reached: 10 - epsilon: 0.5535075230322891 - Best: 42\n",
      "2/2 [==============================] - 0s 6ms/step\n",
      "2/2 [==============================] - 0s 4ms/step\n",
      "5: Points reached: 11 - epsilon: 0.5507399854171277 - Best: 42\n",
      "1/1 [==============================] - 0s 23ms/step\n",
      "2/2 [==============================] - 0s 5ms/step\n",
      "2/2 [==============================] - 0s 6ms/step\n",
      "5: Points reached: 12 - epsilon: 0.547986285490042 - Best: 42\n",
      "2/2 [==============================] - 0s 4ms/step\n",
      "2/2 [==============================] - 0s 4ms/step\n",
      "5: Points reached: 13 - epsilon: 0.5452463540625918 - Best: 42\n",
      "1/1 [==============================] - 0s 23ms/step\n",
      "2/2 [==============================] - 0s 4ms/step\n",
      "2/2 [==============================] - 0s 5ms/step\n",
      "5: Points reached: 14 - epsilon: 0.5425201222922789 - Best: 42\n",
      "2/2 [==============================] - 0s 4ms/step\n",
      "2/2 [==============================] - 0s 4ms/step\n",
      "5: Points reached: 15 - epsilon: 0.5398075216808175 - Best: 42\n",
      "2/2 [==============================] - 0s 4ms/step\n",
      "2/2 [==============================] - 0s 4ms/step\n",
      "5: Points reached: 16 - epsilon: 0.5371084840724134 - Best: 42\n",
      "1/1 [==============================] - 0s 21ms/step\n",
      "2/2 [==============================] - 0s 5ms/step\n",
      "2/2 [==============================] - 0s 5ms/step\n",
      "5: Points reached: 17 - epsilon: 0.5344229416520513 - Best: 42\n",
      "2/2 [==============================] - 0s 3ms/step\n",
      "2/2 [==============================] - 0s 7ms/step\n",
      "5: Points reached: 18 - epsilon: 0.531750826943791 - Best: 42\n",
      "1/1 [==============================] - 0s 21ms/step\n",
      "2/2 [==============================] - 0s 4ms/step\n",
      "2/2 [==============================] - 0s 4ms/step\n",
      "5: Points reached: 19 - epsilon: 0.5290920728090721 - Best: 42\n",
      "1/1 [==============================] - 0s 21ms/step\n",
      "2/2 [==============================] - 0s 4ms/step\n",
      "2/2 [==============================] - 0s 4ms/step\n",
      "5: Points reached: 20 - epsilon: 0.5264466124450268 - Best: 42\n",
      "epoch: 6\n",
      "2/2 [==============================] - 0s 7ms/step\n",
      "2/2 [==============================] - 0s 6ms/step\n",
      "2/2 [==============================] - 0s 5ms/step\n",
      "2/2 [==============================] - 0s 5ms/step\n",
      "1/1 [==============================] - 0s 22ms/step\n",
      "2/2 [==============================] - 0s 5ms/step\n",
      "2/2 [==============================] - 0s 5ms/step\n",
      "2/2 [==============================] - 0s 4ms/step\n",
      "2/2 [==============================] - 0s 4ms/step\n",
      "2/2 [==============================] - 0s 4ms/step\n",
      "2/2 [==============================] - 0s 7ms/step\n",
      "1/1 [==============================] - 0s 27ms/step\n",
      "2/2 [==============================] - 0s 7ms/step\n",
      "2/2 [==============================] - 0s 9ms/step\n",
      "2/2 [==============================] - 0s 7ms/step\n",
      "2/2 [==============================] - 0s 4ms/step\n",
      "1/1 [==============================] - 0s 25ms/step\n",
      "2/2 [==============================] - 0s 5ms/step\n",
      "2/2 [==============================] - 0s 7ms/step\n",
      "2/2 [==============================] - 0s 7ms/step\n",
      "2/2 [==============================] - 0s 7ms/step\n",
      "1/1 [==============================] - 0s 28ms/step\n",
      "2/2 [==============================] - 0s 4ms/step\n",
      "2/2 [==============================] - 0s 4ms/step\n",
      "1/1 [==============================] - 0s 24ms/step\n",
      "2/2 [==============================] - 0s 4ms/step\n",
      "2/2 [==============================] - 0s 5ms/step\n",
      "1/1 [==============================] - 0s 27ms/step\n",
      "2/2 [==============================] - 0s 8ms/step\n",
      "2/2 [==============================] - 0s 3ms/step\n",
      "2/2 [==============================] - 0s 4ms/step\n",
      "2/2 [==============================] - 0s 4ms/step\n",
      "2/2 [==============================] - 0s 5ms/step\n",
      "2/2 [==============================] - 0s 6ms/step\n",
      "1/1 [==============================] - 0s 22ms/step\n",
      "2/2 [==============================] - 0s 5ms/step\n",
      "2/2 [==============================] - 0s 4ms/step\n",
      "epoch: 7\n",
      "2/2 [==============================] - 0s 7ms/step\n",
      "2/2 [==============================] - 0s 6ms/step\n",
      "1/1 [==============================] - 0s 21ms/step\n",
      "2/2 [==============================] - 0s 4ms/step\n",
      "2/2 [==============================] - 0s 5ms/step\n",
      "2/2 [==============================] - 0s 5ms/step\n",
      "2/2 [==============================] - 0s 6ms/step\n",
      "1/1 [==============================] - 0s 21ms/step\n",
      "2/2 [==============================] - 0s 6ms/step\n",
      "2/2 [==============================] - 0s 4ms/step\n",
      "2/2 [==============================] - 0s 7ms/step\n",
      "2/2 [==============================] - 0s 4ms/step\n",
      "1/1 [==============================] - 0s 22ms/step\n",
      "2/2 [==============================] - 0s 5ms/step\n",
      "2/2 [==============================] - 0s 4ms/step\n",
      "1/1 [==============================] - 0s 21ms/step\n",
      "2/2 [==============================] - 0s 4ms/step\n",
      "2/2 [==============================] - 0s 6ms/step\n",
      "2/2 [==============================] - 0s 5ms/step\n",
      "2/2 [==============================] - 0s 6ms/step\n",
      "1/1 [==============================] - 0s 21ms/step\n",
      "2/2 [==============================] - 0s 4ms/step\n",
      "2/2 [==============================] - 0s 5ms/step\n",
      "2/2 [==============================] - 0s 4ms/step\n",
      "2/2 [==============================] - 0s 6ms/step\n",
      "2/2 [==============================] - 0s 5ms/step\n",
      "2/2 [==============================] - 0s 5ms/step\n",
      "1/1 [==============================] - 0s 22ms/step\n",
      "2/2 [==============================] - 0s 4ms/step\n",
      "2/2 [==============================] - 0s 5ms/step\n",
      "2/2 [==============================] - 0s 5ms/step\n",
      "2/2 [==============================] - 0s 7ms/step\n",
      "2/2 [==============================] - 0s 4ms/step\n",
      "2/2 [==============================] - 0s 5ms/step\n",
      "1/1 [==============================] - 0s 21ms/step\n",
      "2/2 [==============================] - 0s 4ms/step\n",
      "2/2 [==============================] - 0s 4ms/step\n",
      "epoch: 8\n",
      "2/2 [==============================] - 0s 4ms/step\n",
      "2/2 [==============================] - 0s 5ms/step\n",
      "2/2 [==============================] - 0s 4ms/step\n",
      "2/2 [==============================] - 0s 6ms/step\n",
      "1/1 [==============================] - 0s 21ms/step\n",
      "2/2 [==============================] - 0s 5ms/step\n",
      "2/2 [==============================] - 0s 6ms/step\n",
      "1/1 [==============================] - 0s 21ms/step\n",
      "2/2 [==============================] - 0s 4ms/step\n",
      "2/2 [==============================] - 0s 4ms/step\n",
      "1/1 [==============================] - 0s 26ms/step\n",
      "2/2 [==============================] - 0s 3ms/step\n",
      "2/2 [==============================] - 0s 4ms/step\n",
      "1/1 [==============================] - 0s 22ms/step\n",
      "2/2 [==============================] - 0s 7ms/step\n",
      "2/2 [==============================] - 0s 6ms/step\n",
      "2/2 [==============================] - 0s 4ms/step\n",
      "2/2 [==============================] - 0s 5ms/step\n",
      "2/2 [==============================] - 0s 5ms/step\n",
      "2/2 [==============================] - 0s 4ms/step\n",
      "2/2 [==============================] - 0s 5ms/step\n",
      "2/2 [==============================] - 0s 5ms/step\n",
      "epoch: 9\n",
      "1/1 [==============================] - 0s 28ms/step\n",
      "2/2 [==============================] - 0s 6ms/step\n",
      "2/2 [==============================] - 0s 5ms/step\n",
      "1/1 [==============================] - 0s 26ms/step\n",
      "2/2 [==============================] - 0s 5ms/step\n",
      "2/2 [==============================] - 0s 5ms/step\n",
      "1/1 [==============================] - 0s 25ms/step\n",
      "2/2 [==============================] - 0s 6ms/step\n"
     ]
    },
    {
     "name": "stdout",
     "output_type": "stream",
     "text": [
      "2/2 [==============================] - 0s 5ms/step\n",
      "1/1 [==============================] - 0s 33ms/step\n",
      "2/2 [==============================] - 0s 5ms/step\n",
      "2/2 [==============================] - 0s 7ms/step\n",
      "1/1 [==============================] - 0s 27ms/step\n",
      "2/2 [==============================] - 0s 5ms/step\n",
      "2/2 [==============================] - 0s 6ms/step\n",
      "1/1 [==============================] - 0s 25ms/step\n",
      "2/2 [==============================] - 0s 4ms/step\n",
      "2/2 [==============================] - 0s 7ms/step\n",
      "1/1 [==============================] - 0s 31ms/step\n",
      "2/2 [==============================] - 0s 5ms/step\n",
      "2/2 [==============================] - 0s 6ms/step\n",
      "1/1 [==============================] - 0s 23ms/step\n",
      "2/2 [==============================] - 0s 6ms/step\n",
      "2/2 [==============================] - 0s 10ms/step\n",
      "2/2 [==============================] - 0s 4ms/step\n",
      "2/2 [==============================] - 0s 4ms/step\n",
      "2/2 [==============================] - 0s 4ms/step\n",
      "2/2 [==============================] - 0s 5ms/step\n"
     ]
    }
   ],
   "source": [
    "best_so_far = 0\n",
    "\n",
    "for epoch in range(EPOCHS):\n",
    "    observation = env.reset()\n",
    "    \n",
    "    print(f\"epoch: {epoch}\")\n",
    "    \n",
    "    observation = observation.reshape([1,4])\n",
    "    done = False\n",
    "    \n",
    "    points = 0\n",
    "    \n",
    "    while not done:\n",
    "        \n",
    "        action = epsilon_greedy_action_selection(model, epsilon, observation)\n",
    "        \n",
    "        #######################################\n",
    "        \n",
    "        next_observation, reward, done, info = env.step(action)\n",
    "        next_observation = next_observation.reshape([1,4])\n",
    "        \n",
    "        replay_buffer.append((observation, action, reward, next_observation, done))\n",
    "        \n",
    "        observation = next_observation\n",
    "        points += 1\n",
    "        \n",
    "        #######################################\n",
    "        \n",
    "        # Training model by replaying\n",
    "        replay(replay_buffer, 64, model, target_model)\n",
    "        \n",
    "        # Reduce epsilon\n",
    "        epsilon *= EPSILON_REDUCE\n",
    "        \n",
    "        update_model_handler(epoch, update_target_model, model, target_model)\n",
    "        \n",
    "        if points > best_so_far:\n",
    "            best_so_far = points\n",
    "        if epoch % 5 == 0:\n",
    "            print(f\"{epoch}: Points reached: {points} - epsilon: {epsilon} - Best: {best_so_far}\")\n",
    "            \n",
    "        if points == 100:\n",
    "            done = True"
   ]
  },
  {
   "cell_type": "markdown",
   "id": "39e9d270",
   "metadata": {},
   "source": [
    "<!-- $$ asdasd $$ -->"
   ]
  },
  {
   "cell_type": "code",
   "execution_count": 20,
   "id": "3d1b04b4",
   "metadata": {},
   "outputs": [],
   "source": [
    "# observation = env.reset()\n",
    "\n",
    "# for counter in range(300):\n",
    "#     env.render()\n",
    "    \n",
    "#     action = np.argmax(model.predict(observation.reshape([1, 1, 4])))\n",
    "    \n",
    "#     observation, reward, done, info = env.step(action)\n",
    "    \n",
    "#     if done:\n",
    "#         print(f\"done {counter}\")\n",
    "#         break\n",
    "\n",
    "# env.close()"
   ]
  }
 ],
 "metadata": {
  "kernelspec": {
   "display_name": "Python 3",
   "language": "python",
   "name": "python3"
  },
  "language_info": {
   "codemirror_mode": {
    "name": "ipython",
    "version": 3
   },
   "file_extension": ".py",
   "mimetype": "text/x-python",
   "name": "python",
   "nbconvert_exporter": "python",
   "pygments_lexer": "ipython3",
   "version": "3.8.10"
  }
 },
 "nbformat": 4,
 "nbformat_minor": 5
}
